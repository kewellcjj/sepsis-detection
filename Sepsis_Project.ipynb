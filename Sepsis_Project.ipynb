{
 "cells": [
  {
   "cell_type": "markdown",
   "metadata": {
    "id": "6khSpKn5GVHp"
   },
   "source": [
    "# Big Data for Health (CSE6250) \n",
    "Goal: Sepsis prediction using MIMIC III Data\n",
    "\n",
    "Author: Zhensheng Wang\n",
    "         \n",
    "Created: 10/19/2021"
   ]
  },
  {
   "cell_type": "code",
   "execution_count": 1,
   "metadata": {
    "id": "Po1v3SZZGJbm"
   },
   "outputs": [
    {
     "data": {
      "text/html": [
       "<style type='text/css'>\n",
       ".datatable table.frame { margin-bottom: 0; }\n",
       ".datatable table.frame thead { border-bottom: none; }\n",
       ".datatable table.frame tr.coltypes td {  color: #FFFFFF;  line-height: 6px;  padding: 0 0.5em;}\n",
       ".datatable .bool    { background: #DDDD99; }\n",
       ".datatable .object  { background: #565656; }\n",
       ".datatable .int     { background: #5D9E5D; }\n",
       ".datatable .float   { background: #4040CC; }\n",
       ".datatable .str     { background: #CC4040; }\n",
       ".datatable .row_index {  background: var(--jp-border-color3);  border-right: 1px solid var(--jp-border-color0);  color: var(--jp-ui-font-color3);  font-size: 9px;}\n",
       ".datatable .frame tr.coltypes .row_index {  background: var(--jp-border-color0);}\n",
       ".datatable th:nth-child(2) { padding-left: 12px; }\n",
       ".datatable .hellipsis {  color: var(--jp-cell-editor-border-color);}\n",
       ".datatable .vellipsis {  background: var(--jp-layout-color0);  color: var(--jp-cell-editor-border-color);}\n",
       ".datatable .na {  color: var(--jp-cell-editor-border-color);  font-size: 80%;}\n",
       ".datatable .footer { font-size: 9px; }\n",
       ".datatable .frame_dimensions {  background: var(--jp-border-color3);  border-top: 1px solid var(--jp-border-color0);  color: var(--jp-ui-font-color3);  display: inline-block;  opacity: 0.6;  padding: 1px 10px 1px 5px;}\n",
       "</style>\n"
      ],
      "text/plain": [
       "<IPython.core.display.HTML object>"
      ]
     },
     "metadata": {},
     "output_type": "display_data"
    }
   ],
   "source": [
    "import pandas as pd\n",
    "import matplotlib.pyplot as plt\n",
    "import numpy as np\n",
    "# from pyspark.sql import SparkSession\n",
    "from sklearn.model_selection import StratifiedKFold\n",
    "from sklearn.ensemble import GradientBoostingClassifier\n",
    "from sklearn.preprocessing import LabelEncoder, MinMaxScaler\n",
    "from sklearn.metrics import roc_auc_score\n",
    "from tableone import TableOne\n",
    "import lightgbm as lgbm\n",
    "from hyperopt import fmin, hp, tpe, STATUS_OK, Trials\n",
    "import os, gc\n",
    "os.environ[\"GOOGLE_APPLICATION_CREDENTIALS\"]= os.path.join(os.getcwd(), \"bdfh.json\")\n",
    "from google.cloud import bigquery\n",
    "bqclient = bigquery.Client()"
   ]
  },
  {
   "cell_type": "markdown",
   "metadata": {},
   "source": [
    "## Query the data"
   ]
  },
  {
   "cell_type": "code",
   "execution_count": 2,
   "metadata": {
    "colab": {
     "base_uri": "https://localhost:8080/",
     "height": 843
    },
    "id": "oFEPn5DtHOwP",
    "outputId": "283a5cfd-83cf-4c35-e38b-cf92c148b942"
   },
   "outputs": [],
   "source": [
    "# Download query results. (change to your own query code)\n",
    "\n",
    "def query_data_save(tbl):\n",
    "    \n",
    "    if f\"{tbl}.csv\" not in os.listdir('./Data'):\n",
    "        df_query = bqclient.query(f\"select * from cdcproject.BDFH.{tbl}\").result().to_dataframe()\n",
    "        df_query.to_csv(f'Data/{tbl}.csv', index=False)\n",
    "        print(f\"{tbl} created, saved and loaded!\")\n",
    "    else:\n",
    "        df_query = pd.read_csv(f\"Data/{tbl}.csv\")\n",
    "        print(f\"{tbl} loaded!\")\n",
    "    return df_query\n",
    "    "
   ]
  },
  {
   "cell_type": "code",
   "execution_count": 2,
   "metadata": {},
   "outputs": [],
   "source": [
    "sepsis = query_data_save('sepsis')\n",
    "nonsepsis = query_data_save('Nonsepsis')\n",
    "angus_sepsis = query_data_save('angus_sepsis')\n",
    "sirs = query_data_save('sirs')\n",
    "sofa = query_data_save('sofa')\n",
    "cohort = query_data_save('Cohort')\n",
    "# WBC = pd.read_csv('Data/WBC.csv')\n",
    "# Creatinine = pd.read_csv('Data/WBC.csv')\n",
    "# Anion_gap  = pd.read_csv('Data/Anion_gap.csv')\n",
    "# Sodium  = pd.read_csv('Data/Sodium.csv')\n",
    "# Hemoglobin  = pd.read_csv('Data/Hemoglobin.csv')\n",
    "# Lactate  = pd.read_csv('Data/Lactate.csv')\n",
    "# Potassium  = pd.read_csv('Data/Potassium.csv')\n",
    "# Urea_Nitrogen = pd.read_csv('Data/Urea_Nitrogen.csv')\n",
    "# Glucose = pd.read_csv('Data/Glucose.csv')\n"
   ]
  },
  {
   "cell_type": "code",
   "execution_count": 5,
   "metadata": {},
   "outputs": [
    {
     "name": "stdout",
     "output_type": "stream",
     "text": [
      "Hourly_Lab_Measures created, saved and loaded!\n"
     ]
    }
   ],
   "source": [
    "lab_measures = query_data_save('Hourly_Lab_Measures')\n"
   ]
  },
  {
   "cell_type": "markdown",
   "metadata": {},
   "source": [
    "# Copy the dataframe"
   ]
  },
  {
   "cell_type": "code",
   "execution_count": 3,
   "metadata": {
    "colab": {
     "base_uri": "https://localhost:8080/",
     "height": 272
    },
    "id": "t2vI6WJFHBOm",
    "outputId": "dca1a4da-f320-463c-87ed-dadb2a2d95d1"
   },
   "outputs": [
    {
     "name": "stdout",
     "output_type": "stream",
     "text": [
      "Number of sepsis patients: 5035\n",
      "Number of control patients: 42836\n"
     ]
    }
   ],
   "source": [
    "print(f\"Number of sepsis patients: {len(sepsis)}\")\n",
    "print(f\"Number of control patients: {len(nonsepsis)}\")\n",
    "# sepsis.head(5)\n",
    "\n",
    "# df_sepsis = sepsis.copy()\n",
    "# df_nonsepsis = nonsepsis.copy()"
   ]
  },
  {
   "cell_type": "markdown",
   "metadata": {},
   "source": [
    "## Clean the patient data"
   ]
  },
  {
   "cell_type": "code",
   "execution_count": 3,
   "metadata": {},
   "outputs": [],
   "source": [
    "def data_clean(df):\n",
    "\n",
    "    # race recode\n",
    "    cond_white = df['ETHNICITY'].str.contains('WHITE')\n",
    "    cond_black = df['ETHNICITY'].str.contains('BLACK')\n",
    "    cond_asian = df['ETHNICITY'].str.contains('ASIAN')\n",
    "    cond_hispa = df['ETHNICITY'].str.contains('HISPANIC')\n",
    "\n",
    "    df.loc[cond_white, 'ETHNICITY'] = 'WHITE'\n",
    "    df.loc[cond_black, 'ETHNICITY'] = 'BLACK'\n",
    "    df.loc[cond_asian, 'ETHNICITY'] = 'ASIAN'\n",
    "    df.loc[cond_hispa, 'ETHNICITY'] = 'HISPANIC'\n",
    "    df.loc[~(cond_white | cond_black | cond_asian | cond_hispa), 'ETHNICITY'] = 'OTHER'\n",
    "\n",
    "    df['ETHNICITY'] = df['ETHNICITY'].apply(lambda x: x[0] + x[1:].lower())\n",
    "\n",
    "    # marital status recode\n",
    "    cond_other_marital = df['MARITAL_STATUS'].str.contains('SEPARATED|LIFE PARTNER', na = False)\n",
    "    cond_unknown_marital = df['MARITAL_STATUS'].str.contains('UNKNOWN', na = False) | df['MARITAL_STATUS'].isna()\n",
    "\n",
    "    df.loc[cond_other_marital, 'MARITAL_STATUS'] = 'OTHER'\n",
    "    df.loc[cond_unknown_marital, 'MARITAL_STATUS'] = 'UNKNOWN'\n",
    "    \n",
    "    df['MARITAL_STATUS'] = df['MARITAL_STATUS'].apply(lambda x: x[0] + x[1:].lower())\n",
    "    df['gender'] = df['gender'].apply(lambda x: 'Female' if x == 'F' else 'Male')\n",
    "    df['age_admit'] = np.where(df['age_admit'] >= 85, 85, df['age_admit'])\n",
    "\n",
    "    return df\n",
    "\n",
    "sepsis = data_clean(sepsis)\n",
    "nonsepsis = data_clean(nonsepsis)\n",
    "\n",
    "sepsis['Sepsis'] = 1\n",
    "nonsepsis['Sepsis'] = 0\n",
    "df_table1 = pd.concat((sepsis, nonsepsis), axis=0, ignore_index=True)"
   ]
  },
  {
   "cell_type": "markdown",
   "metadata": {},
   "source": [
    "## Table 1 Descriptive statistics"
   ]
  },
  {
   "cell_type": "code",
   "execution_count": 4,
   "metadata": {},
   "outputs": [
    {
     "data": {
      "text/html": [
       "<div>\n",
       "<style scoped>\n",
       "    .dataframe tbody tr th:only-of-type {\n",
       "        vertical-align: middle;\n",
       "    }\n",
       "\n",
       "    .dataframe tbody tr th {\n",
       "        vertical-align: top;\n",
       "    }\n",
       "\n",
       "    .dataframe thead tr th {\n",
       "        text-align: left;\n",
       "    }\n",
       "</style>\n",
       "<table border=\"1\" class=\"dataframe\">\n",
       "  <thead>\n",
       "    <tr>\n",
       "      <th></th>\n",
       "      <th></th>\n",
       "      <th colspan=\"3\" halign=\"left\">Grouped by Sepsis</th>\n",
       "    </tr>\n",
       "    <tr>\n",
       "      <th></th>\n",
       "      <th></th>\n",
       "      <th>Overall</th>\n",
       "      <th>0</th>\n",
       "      <th>1</th>\n",
       "    </tr>\n",
       "  </thead>\n",
       "  <tbody>\n",
       "    <tr>\n",
       "      <th>n</th>\n",
       "      <th></th>\n",
       "      <td>47871</td>\n",
       "      <td>42836</td>\n",
       "      <td>5035</td>\n",
       "    </tr>\n",
       "    <tr>\n",
       "      <th rowspan=\"5\" valign=\"top\">Race/Ethnicity, n (%)</th>\n",
       "      <th>White</th>\n",
       "      <td>33193 (69.3)</td>\n",
       "      <td>29530 (68.9)</td>\n",
       "      <td>3663 (72.8)</td>\n",
       "    </tr>\n",
       "    <tr>\n",
       "      <th>Black</th>\n",
       "      <td>4066 (8.5)</td>\n",
       "      <td>3548 (8.3)</td>\n",
       "      <td>518 (10.3)</td>\n",
       "    </tr>\n",
       "    <tr>\n",
       "      <th>Hispanic</th>\n",
       "      <td>1727 (3.6)</td>\n",
       "      <td>1563 (3.6)</td>\n",
       "      <td>164 (3.3)</td>\n",
       "    </tr>\n",
       "    <tr>\n",
       "      <th>Asian</th>\n",
       "      <td>1733 (3.6)</td>\n",
       "      <td>1568 (3.7)</td>\n",
       "      <td>165 (3.3)</td>\n",
       "    </tr>\n",
       "    <tr>\n",
       "      <th>Other</th>\n",
       "      <td>7152 (14.9)</td>\n",
       "      <td>6627 (15.5)</td>\n",
       "      <td>525 (10.4)</td>\n",
       "    </tr>\n",
       "    <tr>\n",
       "      <th rowspan=\"2\" valign=\"top\">Gender, n (%)</th>\n",
       "      <th>Female</th>\n",
       "      <td>20988 (43.8)</td>\n",
       "      <td>18748 (43.8)</td>\n",
       "      <td>2240 (44.5)</td>\n",
       "    </tr>\n",
       "    <tr>\n",
       "      <th>Male</th>\n",
       "      <td>26883 (56.2)</td>\n",
       "      <td>24088 (56.2)</td>\n",
       "      <td>2795 (55.5)</td>\n",
       "    </tr>\n",
       "    <tr>\n",
       "      <th rowspan=\"5\" valign=\"top\">Insurance, n (%)</th>\n",
       "      <th>Government</th>\n",
       "      <td>1620 (3.4)</td>\n",
       "      <td>1501 (3.5)</td>\n",
       "      <td>119 (2.4)</td>\n",
       "    </tr>\n",
       "    <tr>\n",
       "      <th>Medicaid</th>\n",
       "      <td>4624 (9.7)</td>\n",
       "      <td>4151 (9.7)</td>\n",
       "      <td>473 (9.4)</td>\n",
       "    </tr>\n",
       "    <tr>\n",
       "      <th>Medicare</th>\n",
       "      <td>21270 (44.4)</td>\n",
       "      <td>18174 (42.4)</td>\n",
       "      <td>3096 (61.5)</td>\n",
       "    </tr>\n",
       "    <tr>\n",
       "      <th>Private</th>\n",
       "      <td>19756 (41.3)</td>\n",
       "      <td>18441 (43.1)</td>\n",
       "      <td>1315 (26.1)</td>\n",
       "    </tr>\n",
       "    <tr>\n",
       "      <th>Self Pay</th>\n",
       "      <td>601 (1.3)</td>\n",
       "      <td>569 (1.3)</td>\n",
       "      <td>32 (0.6)</td>\n",
       "    </tr>\n",
       "    <tr>\n",
       "      <th rowspan=\"6\" valign=\"top\">Marital status, n (%)</th>\n",
       "      <th>Single</th>\n",
       "      <td>10175 (21.3)</td>\n",
       "      <td>8840 (20.6)</td>\n",
       "      <td>1335 (26.5)</td>\n",
       "    </tr>\n",
       "    <tr>\n",
       "      <th>Married</th>\n",
       "      <td>19100 (39.9)</td>\n",
       "      <td>16864 (39.4)</td>\n",
       "      <td>2236 (44.4)</td>\n",
       "    </tr>\n",
       "    <tr>\n",
       "      <th>Divorced</th>\n",
       "      <td>2454 (5.1)</td>\n",
       "      <td>2115 (4.9)</td>\n",
       "      <td>339 (6.7)</td>\n",
       "    </tr>\n",
       "    <tr>\n",
       "      <th>Widowed</th>\n",
       "      <td>5587 (11.7)</td>\n",
       "      <td>4782 (11.2)</td>\n",
       "      <td>805 (16.0)</td>\n",
       "    </tr>\n",
       "    <tr>\n",
       "      <th>Other</th>\n",
       "      <td>431 (0.9)</td>\n",
       "      <td>364 (0.8)</td>\n",
       "      <td>67 (1.3)</td>\n",
       "    </tr>\n",
       "    <tr>\n",
       "      <th>Unknown</th>\n",
       "      <td>10124 (21.1)</td>\n",
       "      <td>9871 (23.0)</td>\n",
       "      <td>253 (5.0)</td>\n",
       "    </tr>\n",
       "    <tr>\n",
       "      <th>Length of stay (days), median [Q1,Q3]</th>\n",
       "      <th></th>\n",
       "      <td>7.0 [4.0,15.0]</td>\n",
       "      <td>7.0 [4.0,14.0]</td>\n",
       "      <td>17.0 [8.0,35.0]</td>\n",
       "    </tr>\n",
       "    <tr>\n",
       "      <th>Age (yrs) at first admission, mean (SD)</th>\n",
       "      <th></th>\n",
       "      <td>52.7 (28.1)</td>\n",
       "      <td>51.2 (28.9)</td>\n",
       "      <td>65.4 (15.9)</td>\n",
       "    </tr>\n",
       "  </tbody>\n",
       "</table>\n",
       "</div><br />"
      ],
      "text/plain": [
       "                                                   Grouped by Sepsis                                 \n",
       "                                                             Overall               0                1\n",
       "n                                                              47871           42836             5035\n",
       "Race/Ethnicity, n (%)                   White           33193 (69.3)    29530 (68.9)      3663 (72.8)\n",
       "                                        Black             4066 (8.5)      3548 (8.3)       518 (10.3)\n",
       "                                        Hispanic          1727 (3.6)      1563 (3.6)        164 (3.3)\n",
       "                                        Asian             1733 (3.6)      1568 (3.7)        165 (3.3)\n",
       "                                        Other            7152 (14.9)     6627 (15.5)       525 (10.4)\n",
       "Gender, n (%)                           Female          20988 (43.8)    18748 (43.8)      2240 (44.5)\n",
       "                                        Male            26883 (56.2)    24088 (56.2)      2795 (55.5)\n",
       "Insurance, n (%)                        Government        1620 (3.4)      1501 (3.5)        119 (2.4)\n",
       "                                        Medicaid          4624 (9.7)      4151 (9.7)        473 (9.4)\n",
       "                                        Medicare        21270 (44.4)    18174 (42.4)      3096 (61.5)\n",
       "                                        Private         19756 (41.3)    18441 (43.1)      1315 (26.1)\n",
       "                                        Self Pay           601 (1.3)       569 (1.3)         32 (0.6)\n",
       "Marital status, n (%)                   Single          10175 (21.3)     8840 (20.6)      1335 (26.5)\n",
       "                                        Married         19100 (39.9)    16864 (39.4)      2236 (44.4)\n",
       "                                        Divorced          2454 (5.1)      2115 (4.9)        339 (6.7)\n",
       "                                        Widowed          5587 (11.7)     4782 (11.2)       805 (16.0)\n",
       "                                        Other              431 (0.9)       364 (0.8)         67 (1.3)\n",
       "                                        Unknown         10124 (21.1)     9871 (23.0)        253 (5.0)\n",
       "Length of stay (days), median [Q1,Q3]                 7.0 [4.0,15.0]  7.0 [4.0,14.0]  17.0 [8.0,35.0]\n",
       "Age (yrs) at first admission, mean (SD)                  52.7 (28.1)     51.2 (28.9)      65.4 (15.9)"
      ]
     },
     "execution_count": 4,
     "metadata": {},
     "output_type": "execute_result"
    }
   ],
   "source": [
    "columns = ['ETHNICITY', 'gender', 'INSURANCE', 'MARITAL_STATUS', 'los', 'age_admit']\n",
    "categorical = ['ETHNICITY', 'gender', 'INSURANCE', 'MARITAL_STATUS']\n",
    "order = {\n",
    "    'ETHNICITY': ['White', 'Black', 'Hispanic', 'Asian', 'Other'],\n",
    "    'MARITAL_STATUS': ['Single', 'Married', 'Divorced', 'Widowed', 'Other', 'Unknown']\n",
    "    }\n",
    "label = {\n",
    "    'age_admit': 'Age (yrs) at first admission',\n",
    "    'los': 'Length of stay (days)',\n",
    "    'ETHNICITY': 'Race/Ethnicity',\n",
    "    'MARITAL_STATUS': 'Marital status',\n",
    "    'gender': 'Gender',\n",
    "    'INSURANCE': 'Insurance'\n",
    "}\n",
    "\n",
    "t1 = TableOne(\n",
    "    df_table1, \n",
    "    columns = columns, \n",
    "    categorical = categorical,\n",
    "    nonnormal = ['los'],  \n",
    "    groupby = 'Sepsis', \n",
    "    limit = 6, \n",
    "    order = order,\n",
    "    pval = False,\n",
    "    missing = False,\n",
    "    rename = label\n",
    ")\n",
    "\n",
    "t1\n",
    "# print(t1.tabulate(tablefmt=\"latex\"))\n"
   ]
  },
  {
   "cell_type": "markdown",
   "metadata": {},
   "source": [
    "## Feature creation"
   ]
  },
  {
   "cell_type": "code",
   "execution_count": 6,
   "metadata": {},
   "outputs": [],
   "source": [
    "def feature_create(df):\n",
    "    df_angus_sepsis = angus_sepsis.drop(columns=['hadm_id', 'explicit_sepsis', 'angus', 'infection']).drop_duplicates(ignore_index=True)\n",
    "    df_sofa = sofa[['subject_id', 'SOFA']].groupby('subject_id')['SOFA'].max().to_frame().reset_index()\n",
    "    df_sirs = sirs[['subject_id', 'sirs']].groupby('subject_id')['sirs'].max().to_frame().reset_index()\n",
    "\n",
    "    df = df.merge(df_angus_sepsis, how='inner', on='subject_id') \\\n",
    "        .merge(df_sofa, how='inner', on='subject_id') \\\n",
    "        .merge(df_sirs, how='inner', on='subject_id')\n",
    "    df = df.drop_duplicates('subject_id', ignore_index=True).drop(columns=['dob', 'dod', 'age_death', 'admit_time'])\n",
    "\n",
    "    df = pd.concat((\n",
    "        df.drop(columns=['gender', 'ETHNICITY', 'INSURANCE', 'MARITAL_STATUS']),\n",
    "        pd.get_dummies(df['gender'], dummy_na=False, prefix='gender'), \n",
    "        pd.get_dummies(df['ETHNICITY'], dummy_na=False, prefix='ethnicity'),\n",
    "        pd.get_dummies(df['MARITAL_STATUS'], dummy_na=False, prefix='marital_status'),\n",
    "        pd.get_dummies(df['INSURANCE'], dummy_na=False, prefix='insurance')), axis = 1).reset_index(drop=True)\n",
    "    \n",
    "    \n",
    "    df = df.merge(lab_measures, how='left', left_on='subject_id', right_on='SUBJECT_ID')\n",
    "    df = df.fillna(df.median())\n",
    "    \n",
    "    mms = MinMaxScaler()\n",
    "    df[df.columns] = mms.fit_transform(df)\n",
    "    return df\n"
   ]
  },
  {
   "cell_type": "markdown",
   "metadata": {},
   "source": [
    "## Model training and prediction"
   ]
  },
  {
   "cell_type": "code",
   "execution_count": 8,
   "metadata": {},
   "outputs": [
    {
     "name": "stdout",
     "output_type": "stream",
     "text": [
      "Number of features included: 61\n"
     ]
    }
   ],
   "source": [
    "df_model = feature_create(df_table1)\n",
    "X = df_model.drop(columns=['Sepsis', 'subject_id']).values\n",
    "y = df_model['Sepsis'].values\n",
    "\n",
    "print(f\"Number of features included: {X.shape[1]}\")"
   ]
  },
  {
   "cell_type": "code",
   "execution_count": 9,
   "metadata": {},
   "outputs": [
    {
     "name": "stdout",
     "output_type": "stream",
     "text": [
      "Fold - 0 AUC: 0.89675\n",
      "Fold - 1 AUC: 0.89958\n",
      "Fold - 2 AUC: 0.90224\n",
      "Fold - 3 AUC: 0.90438\n",
      "Fold - 4 AUC: 0.90986\n",
      "Average AUC: 0.90257\n"
     ]
    }
   ],
   "source": [
    "skf = StratifiedKFold(n_splits=5, random_state=42, shuffle=True)\n",
    "avg_auc = 0\n",
    "feature_importance = np.zeros((X.shape[1], ))\n",
    "\n",
    "for fold, (tr_idx, val_idx) in enumerate(skf.split(X, y)):\n",
    "    tr_x, tr_y = X[tr_idx], y[tr_idx]\n",
    "    val_x, val_y = X[val_idx], y[val_idx]\n",
    "    model = GradientBoostingClassifier()\n",
    "    model.fit(tr_x, tr_y)\n",
    "    pred = model.predict_proba(val_x)[:, 1]\n",
    "    fold_score = roc_auc_score(val_y, pred)\n",
    "    \n",
    "    feature_importance += model.feature_importances_ / skf.n_splits\n",
    "    print(f\"Fold - {fold} AUC: {fold_score:.5f}\")\n",
    "    avg_auc += fold_score / skf.n_splits\n",
    "    \n",
    "print(f'Average AUC: {avg_auc:.5f}')\n"
   ]
  },
  {
   "cell_type": "markdown",
   "metadata": {},
   "source": [
    "## Feature importance"
   ]
  },
  {
   "cell_type": "code",
   "execution_count": 14,
   "metadata": {},
   "outputs": [
    {
     "data": {
      "text/html": [
       "<div>\n",
       "<style scoped>\n",
       "    .dataframe tbody tr th:only-of-type {\n",
       "        vertical-align: middle;\n",
       "    }\n",
       "\n",
       "    .dataframe tbody tr th {\n",
       "        vertical-align: top;\n",
       "    }\n",
       "\n",
       "    .dataframe thead th {\n",
       "        text-align: right;\n",
       "    }\n",
       "</style>\n",
       "<table border=\"1\" class=\"dataframe\">\n",
       "  <thead>\n",
       "    <tr style=\"text-align: right;\">\n",
       "      <th></th>\n",
       "      <th>var</th>\n",
       "      <th>importance</th>\n",
       "    </tr>\n",
       "  </thead>\n",
       "  <tbody>\n",
       "    <tr>\n",
       "      <th>0</th>\n",
       "      <td>SOFA</td>\n",
       "      <td>0.227286</td>\n",
       "    </tr>\n",
       "    <tr>\n",
       "      <th>1</th>\n",
       "      <td>organ_dysfunction</td>\n",
       "      <td>0.132561</td>\n",
       "    </tr>\n",
       "    <tr>\n",
       "      <th>2</th>\n",
       "      <td>urea_nitrogen_max</td>\n",
       "      <td>0.098024</td>\n",
       "    </tr>\n",
       "    <tr>\n",
       "      <th>3</th>\n",
       "      <td>creatinine_max</td>\n",
       "      <td>0.092864</td>\n",
       "    </tr>\n",
       "    <tr>\n",
       "      <th>4</th>\n",
       "      <td>sirs</td>\n",
       "      <td>0.076701</td>\n",
       "    </tr>\n",
       "    <tr>\n",
       "      <th>5</th>\n",
       "      <td>lactate_max</td>\n",
       "      <td>0.053800</td>\n",
       "    </tr>\n",
       "    <tr>\n",
       "      <th>6</th>\n",
       "      <td>los</td>\n",
       "      <td>0.042174</td>\n",
       "    </tr>\n",
       "    <tr>\n",
       "      <th>7</th>\n",
       "      <td>lactate_min</td>\n",
       "      <td>0.028582</td>\n",
       "    </tr>\n",
       "    <tr>\n",
       "      <th>8</th>\n",
       "      <td>WBC_max</td>\n",
       "      <td>0.025187</td>\n",
       "    </tr>\n",
       "    <tr>\n",
       "      <th>9</th>\n",
       "      <td>lactate_avg</td>\n",
       "      <td>0.023556</td>\n",
       "    </tr>\n",
       "    <tr>\n",
       "      <th>10</th>\n",
       "      <td>lactate_stddev</td>\n",
       "      <td>0.022548</td>\n",
       "    </tr>\n",
       "    <tr>\n",
       "      <th>11</th>\n",
       "      <td>hemoglobin_avg</td>\n",
       "      <td>0.018062</td>\n",
       "    </tr>\n",
       "    <tr>\n",
       "      <th>12</th>\n",
       "      <td>hemoglobin_stddev</td>\n",
       "      <td>0.015473</td>\n",
       "    </tr>\n",
       "    <tr>\n",
       "      <th>13</th>\n",
       "      <td>urea_nitrogen_stddev</td>\n",
       "      <td>0.012830</td>\n",
       "    </tr>\n",
       "    <tr>\n",
       "      <th>14</th>\n",
       "      <td>anion_gap_stddev</td>\n",
       "      <td>0.012068</td>\n",
       "    </tr>\n",
       "    <tr>\n",
       "      <th>15</th>\n",
       "      <td>potassium_min</td>\n",
       "      <td>0.011197</td>\n",
       "    </tr>\n",
       "    <tr>\n",
       "      <th>16</th>\n",
       "      <td>urea_nitrogen_min</td>\n",
       "      <td>0.009320</td>\n",
       "    </tr>\n",
       "    <tr>\n",
       "      <th>17</th>\n",
       "      <td>potassium_avg</td>\n",
       "      <td>0.008642</td>\n",
       "    </tr>\n",
       "    <tr>\n",
       "      <th>18</th>\n",
       "      <td>hemoglobin_min</td>\n",
       "      <td>0.007205</td>\n",
       "    </tr>\n",
       "    <tr>\n",
       "      <th>19</th>\n",
       "      <td>age_admit</td>\n",
       "      <td>0.006650</td>\n",
       "    </tr>\n",
       "  </tbody>\n",
       "</table>\n",
       "</div>"
      ],
      "text/plain": [
       "                     var  importance\n",
       "0                   SOFA    0.227286\n",
       "1      organ_dysfunction    0.132561\n",
       "2      urea_nitrogen_max    0.098024\n",
       "3         creatinine_max    0.092864\n",
       "4                   sirs    0.076701\n",
       "5            lactate_max    0.053800\n",
       "6                    los    0.042174\n",
       "7            lactate_min    0.028582\n",
       "8                WBC_max    0.025187\n",
       "9            lactate_avg    0.023556\n",
       "10        lactate_stddev    0.022548\n",
       "11        hemoglobin_avg    0.018062\n",
       "12     hemoglobin_stddev    0.015473\n",
       "13  urea_nitrogen_stddev    0.012830\n",
       "14      anion_gap_stddev    0.012068\n",
       "15         potassium_min    0.011197\n",
       "16     urea_nitrogen_min    0.009320\n",
       "17         potassium_avg    0.008642\n",
       "18        hemoglobin_min    0.007205\n",
       "19             age_admit    0.006650"
      ]
     },
     "execution_count": 14,
     "metadata": {},
     "output_type": "execute_result"
    }
   ],
   "source": [
    "pd.DataFrame(dict(\n",
    "    var = df_model.drop(columns=['Sepsis', 'subject_id']).columns, \n",
    "    importance = feature_importance)).sort_values('importance', ascending=False, ignore_index=True).head(20)"
   ]
  },
  {
   "cell_type": "markdown",
   "metadata": {},
   "source": [
    "## Lightgbm CV"
   ]
  },
  {
   "cell_type": "code",
   "execution_count": 30,
   "metadata": {},
   "outputs": [],
   "source": [
    "lgbm_param = {\n",
    "        'num_leaves': hp.choice('num_leaves', np.arange(2, 21)),\n",
    "        'learning_rate': hp.uniform('learning_rate', 0.005, 0.1),\n",
    "        'feature_fraction': hp.uniform('feature_fraction', 0.01, 0.5),\n",
    "        'max_depth': hp.choice('max_depth', np.arange(2, 11)),\n",
    "        'objective': 'binary',\n",
    "        # 'boosting_type': 'dart',\n",
    "        'metric': 'auc',\n",
    "        'verbose': -1,\n",
    "        'device_type': 'gpu'\n",
    "    }\n",
    "\n",
    "def f_lgbm(params):\n",
    "    tr_data = lgbm.Dataset(X, y)\n",
    "    res = lgbm.cv(params, tr_data, num_boost_round=1000, early_stopping_rounds=100, seed=42)\n",
    "    return {'loss': -np.mean(res['auc-mean']).round(5), 'status': STATUS_OK}\n",
    "    # lgbm_pred = np.zeros((len(X), ))\n",
    "    # auc = np.zeros(5)\n",
    "    # for i, (tr_idx, te_idx) in enumerate(StratifiedKFold(5, shuffle=True, random_state=42).split(X, y)):\n",
    "    #     if i > 0: break\n",
    "    #     tr_data = lgbm.Dataset(X[tr_idx], y[tr_idx]) #, categorical_feature=cat_col)\n",
    "    #     te_data = lgbm.Dataset(X[te_idx], y[te_idx])#, categorical_feature=cat_col)\n",
    "    #     clf = lgbm.train(params,\n",
    "    #                      tr_data,\n",
    "    #                      num_boost_round=2000,\n",
    "    #                      verbose_eval=False,\n",
    "    #                      valid_sets=[tr_data, te_data],\n",
    "    #                      early_stopping_rounds=100,\n",
    "    #                 )\n",
    "    #     lgbm_pred[te_idx] = clf.predict(X[te_idx], num_iteration=clf.best_iteration)\n",
    "    #     auc[i] = roc_auc_score(y[te_idx], lgbm_pred[te_idx])\n",
    "    #     del clf\n",
    "    #     gc.collect()\n",
    "        \n",
    "    # return {'loss': -np.mean(auc[0]).round(5), 'status': STATUS_OK}"
   ]
  },
  {
   "cell_type": "code",
   "execution_count": 31,
   "metadata": {},
   "outputs": [
    {
     "name": "stdout",
     "output_type": "stream",
     "text": [
      "100%|██████████| 20/20 [04:49<00:00, 14.47s/trial, best loss: -0.90635]\n"
     ]
    }
   ],
   "source": [
    "trials = Trials()\n",
    "lgbm_best = fmin(f_lgbm, lgbm_param, algo=tpe.suggest, rstate=np.random.RandomState(42), max_evals=20, trials=trials)"
   ]
  }
 ],
 "metadata": {
  "colab": {
   "name": "Sepsis_Project.ipynb",
   "provenance": []
  },
  "interpreter": {
   "hash": "f369dc3251b2e69878e695b69c2217bf34a409687e724799b0e3fed989cd45f1"
  },
  "kernelspec": {
   "display_name": "Python 3.8.6 64-bit (conda)",
   "name": "python3"
  },
  "language_info": {
   "codemirror_mode": {
    "name": "ipython",
    "version": 3
   },
   "file_extension": ".py",
   "mimetype": "text/x-python",
   "name": "python",
   "nbconvert_exporter": "python",
   "pygments_lexer": "ipython3",
   "version": "3.8.6"
  }
 },
 "nbformat": 4,
 "nbformat_minor": 0
}
