{
 "cells": [
  {
   "cell_type": "markdown",
   "metadata": {
    "id": "6khSpKn5GVHp"
   },
   "source": [
    "# Big Data for Health (CSE6250) \n",
    "\n",
    "Goal: Using Logistic Regression Machine model to predict sepsis onset using MIMIC III Data\n",
    "\n",
    "Author: "
   ]
  },
  {
   "cell_type": "markdown",
   "metadata": {},
   "source": [
    "## Logistic Regression - Model Evaluation"
   ]
  },
  {
   "cell_type": "code",
   "execution_count": 3,
   "metadata": {},
   "outputs": [
    {
     "name": "stdout",
     "output_type": "stream",
     "text": [
      "Train/Test data size: 4885/543\n",
      "______________________________________________\n",
      "Classifier: LR\n",
      "Accuracy:  0.8840\n",
      "AUC:  0.6791\n",
      "AUPRC:  0.2553\n",
      "Precision:  0.5000\n",
      "Recall:  0.0317\n",
      "F1-score:  0.0597\n",
      "______________________________________________\n",
      "\n",
      "tuned hpyerparameters :(best parameters)  {'C': 1.0, 'penalty': 'l2'}\n",
      "______________________________________________\n",
      "Classifier: LR\n",
      "Accuracy:  0.8840\n",
      "AUC:  0.6791\n",
      "AUPRC:  0.2553\n",
      "Precision:  0.5000\n",
      "Recall:  0.0317\n",
      "F1-score:  0.0597\n",
      "______________________________________________\n",
      "\n"
     ]
    }
   ],
   "source": [
    "from sklearn.linear_model import LogisticRegression\n",
    "from sklearn.svm import LinearSVC, SVC\n",
    "from sklearn.calibration import CalibratedClassifierCV\n",
    "from sklearn.metrics import *\n",
    "from sklearn.model_selection import train_test_split\n",
    "import matplotlib.pyplot as plt\n",
    "from Python.model_data import model_data\n",
    "import numpy as np\n",
    "from sklearn.preprocessing import MinMaxScaler\n",
    "from sklearn.svm import SVC\n",
    "from sklearn.calibration import CalibratedClassifierCV\n",
    "from Python.utils import classification_metrics, plot_roc\n",
    "    \n",
    "def sigmoid(x):\n",
    "    ex = np.exp(x)\n",
    "    return ex / (1 + ex)\n",
    "\n",
    "df_train, df_test = model_data(model_type=\"LR\", test_size=.1)\n",
    "x_train, y_train = df_train.drop(columns=['label']), df_train.label\n",
    "x_test, y_test = df_test.drop(columns=['label']), df_test.label\n",
    "\n",
    "# scaling\n",
    "x_train = MinMaxScaler().fit_transform(x_train)\n",
    "x_test = MinMaxScaler().fit_transform(x_test)\n",
    "\n",
    "logistic_regression = LogisticRegression(solver='saga',max_iter=10000)\n",
    "\n",
    "logistic_regression.fit(x_train, y_train)\n",
    "\n",
    "y_pred = logistic_regression.predict_proba(x_test)[:,1]\n",
    "classification_metrics(\"LR\", y_test, y_pred)\n",
    "\n",
    "# Grid search\n",
    "from sklearn.model_selection import GridSearchCV\n",
    "from sklearn.linear_model import LogisticRegression\n",
    "# Create regularization hyperparameter space\n",
    "C = np.logspace(0, 2)\n",
    "grid={\"C\":C, \"penalty\":[\"l2\"]}#  l2 ridge\n",
    "logreg=LogisticRegression(solver='saga',max_iter=10000)\n",
    "logreg_cv=GridSearchCV(logreg,grid,cv=5)\n",
    "logreg_cv.fit(x_train,y_train)\n",
    "\n",
    "print(\"tuned hpyerparameters :(best parameters) \",logreg_cv.best_params_)\n",
    "y_pred = logreg_cv.predict_proba(x_test)[:,1]\n",
    "classification_metrics(\"LR\", y_test, y_pred)\n"
   ]
  },
  {
   "cell_type": "code",
   "execution_count": null,
   "metadata": {},
   "outputs": [],
   "source": []
  },
  {
   "cell_type": "code",
   "execution_count": null,
   "metadata": {},
   "outputs": [],
   "source": []
  }
 ],
 "metadata": {
  "colab": {
   "name": "Sepsis_Project.ipynb",
   "provenance": []
  },
  "interpreter": {
   "hash": "f369dc3251b2e69878e695b69c2217bf34a409687e724799b0e3fed989cd45f1"
  },
  "kernelspec": {
   "display_name": "Python 3 (ipykernel)",
   "language": "python",
   "name": "python3"
  },
  "language_info": {
   "codemirror_mode": {
    "name": "ipython",
    "version": 3
   },
   "file_extension": ".py",
   "mimetype": "text/x-python",
   "name": "python",
   "nbconvert_exporter": "python",
   "pygments_lexer": "ipython3",
   "version": "3.9.5"
  }
 },
 "nbformat": 4,
 "nbformat_minor": 1
}
