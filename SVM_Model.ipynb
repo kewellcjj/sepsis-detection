{
 "cells": [
  {
   "cell_type": "markdown",
   "metadata": {
    "id": "6khSpKn5GVHp"
   },
   "source": [
    "# Big Data for Health (CSE6250) \n",
    "\n",
    "Goal: Using Support Vector Machine model to predict sepsis onset using MIMIC III Data\n",
    "\n",
    "Author: Caleb Sabatini"
   ]
  },
  {
   "cell_type": "markdown",
   "metadata": {},
   "source": [
    "## Model Imports"
   ]
  },
  {
   "cell_type": "code",
   "execution_count": 5,
   "metadata": {},
   "outputs": [],
   "source": [
    "from Python.model_data import model_data\n",
    "from Python.utils import classification_metrics, plot_roc, plot_prc\n",
    "\n",
    "import numpy as np\n",
    "from sklearn.preprocessing import MinMaxScaler\n",
    "from sklearn.svm import SVC\n",
    "from sklearn.model_selection import GridSearchCV\n",
    "from sklearn.calibration import CalibratedClassifierCV\n",
    "from sklearn.metrics import make_scorer, roc_auc_score\n",
    "from scipy import stats\n",
    "from imblearn.over_sampling import RandomOverSampler\n",
    "\n",
    "np.random.seed(0)"
   ]
  },
  {
   "cell_type": "markdown",
   "metadata": {},
   "source": [
    "## Support Vector Machine - Without Oversampling"
   ]
  },
  {
   "cell_type": "code",
   "execution_count": 9,
   "metadata": {},
   "outputs": [
    {
     "name": "stdout",
     "output_type": "stream",
     "text": [
      "Train/Test data size: 4885/543\n",
      "______________________________________________\n",
      "Classifier: SVM\n",
      "Accuracy:  0.8785\n",
      "AUC:  0.7801\n",
      "AUPRC:  0.2989\n",
      "Precision:  0.0000\n",
      "Recall:  0.0000\n",
      "F1-score:  0.0000\n",
      "______________________________________________\n",
      "\n"
     ]
    },
    {
     "data": {
      "text/plain": [
       "<Figure size 432x288 with 0 Axes>"
      ]
     },
     "metadata": {},
     "output_type": "display_data"
    }
   ],
   "source": [
    "df_train, df_test = model_data(model_type=\"SVM\", test_size=.1)\n",
    "\n",
    "x_train, y_train = df_train.drop(columns=['label', 'icustay_id']), df_train['label']\n",
    "x_test, y_test = df_test.drop(columns=['label', 'icustay_id']), df_test['label']\n",
    "\n",
    "x_train = x_train.fillna(x_train.median())\n",
    "x_test = x_test.fillna(x_test.median())\n",
    "\n",
    "sc = MinMaxScaler()\n",
    "x_train = sc.fit_transform(x_train)\n",
    "x_test = sc.transform(x_test)\n",
    "\n",
    "model = SVC(kernel='rbf', probability=True, random_state=0)\n",
    "auc = make_scorer(roc_auc_score)\n",
    "param_grid = {\"C\": np.arange(2, 10, 2), \"gamma\": np.arange(0.1, 1, 0.2)}\n",
    "#grid_search = GridSearchCV(model, param_grid, n_jobs=5, cv=5, scoring=auc)\n",
    "#grid_search.fit(x_train, y_train) \n",
    "#best_params = grid_search.best_params_\n",
    "best_params = {'C':10, 'gamma':0.1}\n",
    "\n",
    "model = SVC(kernel='rbf', probability=True, random_state=0, C=best_params['C'], gamma=best_params['gamma'])\n",
    "model.fit(x_train, y_train)\n",
    "y_pred = model.predict_proba(x_test)[:,1]\n",
    "\n",
    "classification_metrics(\"SVM\", y_test, y_pred)\n",
    "plot_roc(figname=\"output/SVM_roc.png\", SVM=\"output/SVM_roc.csv\")\n",
    "plot_prc(figname=\"output/SVM_prc.png\", SVM=\"output/SVM_prc.csv\")"
   ]
  },
  {
   "cell_type": "markdown",
   "metadata": {},
   "source": [
    "## Support Vector Machine - With Oversampling"
   ]
  },
  {
   "cell_type": "code",
   "execution_count": 10,
   "metadata": {},
   "outputs": [
    {
     "name": "stdout",
     "output_type": "stream",
     "text": [
      "______________________________________________\n",
      "Classifier: SVM\n",
      "Accuracy:  0.7864\n",
      "AUC:  0.7717\n",
      "AUPRC:  0.3448\n",
      "Precision:  0.2846\n",
      "Recall:  0.5556\n",
      "F1-score:  0.3763\n",
      "______________________________________________\n",
      "\n"
     ]
    },
    {
     "data": {
      "text/plain": [
       "<Figure size 432x288 with 0 Axes>"
      ]
     },
     "metadata": {},
     "output_type": "display_data"
    }
   ],
   "source": [
    "ros = RandomOverSampler(random_state=0)\n",
    "x_train, y_train = ros.fit_resample(x_train, y_train)\n",
    "\n",
    "model = SVC(kernel='rbf', probability=True, random_state=0)\n",
    "auc = make_scorer(roc_auc_score)\n",
    "param_grid = {\"C\": np.arange(2, 10, 2), \"gamma\": np.arange(0.1, 1, 0.2)}\n",
    "#grid_search = GridSearchCV(model, param_grid, n_jobs=5, cv=5, scoring=auc)\n",
    "#grid_search.fit(x_train, y_train) \n",
    "#best_params = grid_search.best_params_\n",
    "best_params = {'C':10, 'gamma':0.1}\n",
    "\n",
    "model = SVC(kernel='rbf', probability=True, random_state=0, C=best_params['C'], gamma=best_params['gamma'])\n",
    "model.fit(x_train, y_train)\n",
    "y_pred = model.predict_proba(x_test)[:,1]\n",
    "\n",
    "classification_metrics(\"SVM\", y_test, y_pred)\n",
    "plot_roc(figname=\"output/SVM_roc.png\", SVM=\"output/SVM_roc.csv\")\n",
    "plot_prc(figname=\"output/SVM_prc.png\", SVM=\"output/SVM_prc.csv\")"
   ]
  },
  {
   "cell_type": "code",
   "execution_count": null,
   "metadata": {},
   "outputs": [],
   "source": []
  }
 ],
 "metadata": {
  "colab": {
   "name": "Sepsis_Project.ipynb",
   "provenance": []
  },
  "interpreter": {
   "hash": "f369dc3251b2e69878e695b69c2217bf34a409687e724799b0e3fed989cd45f1"
  },
  "kernelspec": {
   "display_name": "Python 3",
   "language": "python",
   "name": "python3"
  },
  "language_info": {
   "codemirror_mode": {
    "name": "ipython",
    "version": 3
   },
   "file_extension": ".py",
   "mimetype": "text/x-python",
   "name": "python",
   "nbconvert_exporter": "python",
   "pygments_lexer": "ipython3",
   "version": "3.6.13"
  }
 },
 "nbformat": 4,
 "nbformat_minor": 1
}
