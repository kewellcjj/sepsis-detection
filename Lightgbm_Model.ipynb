{
 "cells": [
  {
   "cell_type": "markdown",
   "metadata": {
    "id": "6khSpKn5GVHp"
   },
   "source": [
    "# Big Data for Health (CSE6250) \n",
    "\n",
    "Goal: Using Lightgbm model to predict sepsis onset using MIMIC III Data\n",
    "\n",
    "Author: Zhensheng Wang\n",
    "         \n",
    "Created: 11/13/2021"
   ]
  },
  {
   "cell_type": "code",
   "execution_count": 1,
   "metadata": {
    "id": "Po1v3SZZGJbm"
   },
   "outputs": [
    {
     "data": {
      "text/html": [
       "<style type='text/css'>\n",
       ".datatable table.frame { margin-bottom: 0; }\n",
       ".datatable table.frame thead { border-bottom: none; }\n",
       ".datatable table.frame tr.coltypes td {  color: #FFFFFF;  line-height: 6px;  padding: 0 0.5em;}\n",
       ".datatable .bool    { background: #DDDD99; }\n",
       ".datatable .object  { background: #565656; }\n",
       ".datatable .int     { background: #5D9E5D; }\n",
       ".datatable .float   { background: #4040CC; }\n",
       ".datatable .str     { background: #CC4040; }\n",
       ".datatable .row_index {  background: var(--jp-border-color3);  border-right: 1px solid var(--jp-border-color0);  color: var(--jp-ui-font-color3);  font-size: 9px;}\n",
       ".datatable .frame tr.coltypes .row_index {  background: var(--jp-border-color0);}\n",
       ".datatable th:nth-child(2) { padding-left: 12px; }\n",
       ".datatable .hellipsis {  color: var(--jp-cell-editor-border-color);}\n",
       ".datatable .vellipsis {  background: var(--jp-layout-color0);  color: var(--jp-cell-editor-border-color);}\n",
       ".datatable .na {  color: var(--jp-cell-editor-border-color);  font-size: 80%;}\n",
       ".datatable .footer { font-size: 9px; }\n",
       ".datatable .frame_dimensions {  background: var(--jp-border-color3);  border-top: 1px solid var(--jp-border-color0);  color: var(--jp-ui-font-color3);  display: inline-block;  opacity: 0.6;  padding: 1px 10px 1px 5px;}\n",
       "</style>\n"
      ],
      "text/plain": [
       "<IPython.core.display.HTML object>"
      ]
     },
     "metadata": {},
     "output_type": "display_data"
    }
   ],
   "source": [
    "import pandas as pd\n",
    "import matplotlib.pyplot as plt\n",
    "import numpy as np\n",
    "from sklearn.model_selection import StratifiedKFold\n",
    "from sklearn.ensemble import GradientBoostingClassifier\n",
    "from sklearn.preprocessing import LabelEncoder, MinMaxScaler\n",
    "from sklearn.metrics import roc_auc_score\n",
    "from tableone import TableOne\n",
    "import lightgbm as lgbm\n",
    "from hyperopt import fmin, hp, tpe, STATUS_OK, Trials\n",
    "from hyperopt.pyll.base import scope\n",
    "\n",
    "import os, gc\n",
    "# os.environ[\"GOOGLE_APPLICATION_CREDENTIALS\"]= os.path.join(os.getcwd(), \"bdfh.json\")\n",
    "# from google.cloud import bigquery\n",
    "# bqclient = bigquery.Client()"
   ]
  },
  {
   "cell_type": "markdown",
   "metadata": {},
   "source": [
    "## Load Data"
   ]
  },
  {
   "cell_type": "code",
   "execution_count": 2,
   "metadata": {},
   "outputs": [],
   "source": [
    "case_labs = pd.read_csv('./data_v2/case_48h_labs_ex3h.csv')\n",
    "case_vitals = pd.read_csv('./data_v2/case_48h_vitals_ex3h.csv')\n",
    "case_static = pd.read_csv('./data_v2/static_variables_cases_ex3h.csv')\n",
    "\n",
    "control_labs = pd.read_csv('./data_v2/control_48h_labs_ex3h.csv')\n",
    "control_vitals = pd.read_csv('./data_v2/control_48h_vitals_ex3h.csv')\n",
    "control_static = pd.read_csv('./data_v2/static_variables_controls_ex3h.csv')"
   ]
  },
  {
   "cell_type": "markdown",
   "metadata": {},
   "source": [
    "## Clean data"
   ]
  },
  {
   "cell_type": "code",
   "execution_count": 8,
   "metadata": {},
   "outputs": [],
   "source": [
    "def race_recode(df):\n",
    "    cond_white = df['ethnicity'].str.contains('WHITE')\n",
    "    cond_black = df['ethnicity'].str.contains('BLACK')\n",
    "    cond_asian = df['ethnicity'].str.contains('ASIAN')\n",
    "    cond_hispa = df['ethnicity'].str.contains('HISPANIC')\n",
    "\n",
    "    df.loc[cond_white, 'ethnicity'] = 'WHITE'\n",
    "    df.loc[cond_black, 'ethnicity'] = 'BLACK'\n",
    "    df.loc[cond_asian, 'ethnicity'] = 'ASIAN'\n",
    "    df.loc[cond_hispa, 'ethnicity'] = 'HISPANIC'\n",
    "    df.loc[~(cond_white | cond_black | cond_asian | cond_hispa), 'ethnicity'] = 'OTHER'\n",
    "    \n",
    "    df['ethnicity'] = df['ethnicity'].apply(lambda x: x[0] + x[1:].lower())\n",
    "    return df"
   ]
  },
  {
   "cell_type": "code",
   "execution_count": 10,
   "metadata": {},
   "outputs": [],
   "source": [
    "case_labs = case_labs.drop(columns=['chart_time', 'icustay_id', 'sepsis_onset', 'hr_feature'])\n",
    "apply_dict = {col: ['mean', 'median', 'std'] for col in case_labs.columns if col != 'subject_id'}\n",
    "case_labs = case_labs.groupby('subject_id').agg(apply_dict)\n",
    "# case_labs = case_labs.fillna(case_labs.median())\n",
    "case_labs.columns = ['_'.join(col) for col in case_labs.columns]\n",
    "\n",
    "case_static = case_static[['subject_id', 'gender', 'admission_age', 'ethnicity']]\n",
    "case_static['label'] = 1\n",
    "case_static = race_recode(case_static)\n",
    "case_static['ethnicity'] = LabelEncoder().fit_transform(case_static['ethnicity'])\n",
    "case_static['gender'] = LabelEncoder().fit_transform(case_static['gender'])\n",
    "\n",
    "case_vitals = case_vitals.drop(columns=['chart_time', 'icustay_id', 'sepsis_onset', 'hr_feature'])\n",
    "apply_dict = {col: ['mean', 'median', 'std'] for col in case_vitals.columns if col != 'subject_id'}\n",
    "case_vitals = case_vitals.groupby('subject_id').agg(apply_dict)\n",
    "# case_vitals = case_vitals.fillna(case_vitals.median())\n",
    "case_vitals.columns = ['_'.join(col) for col in case_vitals.columns]\n",
    "\n",
    "case_all = case_static.merge(case_labs, on='subject_id').merge(case_vitals, on='subject_id')\n",
    "\n",
    "\n",
    "control_labs = control_labs.drop(columns=['chart_time', 'icustay_id', 'control_onset_time', 'hr_feature'])\n",
    "apply_dict = {col: ['mean', 'median', 'std'] for col in control_labs.columns if col != 'subject_id'}\n",
    "control_labs = control_labs.groupby('subject_id').agg(apply_dict)\n",
    "# control_labs = control_labs.fillna(control_labs.median())\n",
    "control_labs.columns = ['_'.join(col) for col in control_labs.columns]\n",
    "\n",
    "control_static = control_static[['subject_id', 'gender', 'admission_age', 'ethnicity']]\n",
    "control_static['label'] = 0\n",
    "control_static = race_recode(control_static)\n",
    "control_static['ethnicity'] = LabelEncoder().fit_transform(control_static['ethnicity'])\n",
    "control_static['gender'] = LabelEncoder().fit_transform(control_static['gender'])\n",
    "\n",
    "control_vitals = control_vitals.drop(columns=['chart_time', 'icustay_id', 'control_onset_time', 'hr_feature'])\n",
    "apply_dict = {col: ['mean', 'median', 'std'] for col in control_vitals.columns if col != 'subject_id'}\n",
    "control_vitals = control_vitals.groupby('subject_id').agg(apply_dict)\n",
    "# control_vitals = control_vitals.fillna(control_vitals.median())\n",
    "control_vitals.columns = ['_'.join(col) for col in control_vitals.columns]\n",
    "\n",
    "control_all = control_static.merge(control_labs, on='subject_id').merge(control_vitals, on='subject_id')\n",
    "\n"
   ]
  },
  {
   "cell_type": "code",
   "execution_count": 11,
   "metadata": {},
   "outputs": [],
   "source": [
    "case_control_all = pd.concat((case_all, control_all), ignore_index=True).sample(frac=1).reset_index(drop=True)\n",
    "\n",
    "X, y = case_control_all.drop(columns=['subject_id', 'label']), case_control_all.label\n",
    "X = MinMaxScaler().fit_transform(X)"
   ]
  },
  {
   "cell_type": "markdown",
   "metadata": {},
   "source": [
    "## Model training and prediction"
   ]
  },
  {
   "cell_type": "code",
   "execution_count": 12,
   "metadata": {},
   "outputs": [
    {
     "name": "stdout",
     "output_type": "stream",
     "text": [
      "Number of features included: 135\n",
      "Number of observations: 5657\n",
      "0    5041\n",
      "1     616\n",
      "Name: label, dtype: int64\n"
     ]
    }
   ],
   "source": [
    "print(f\"Number of features included: {X.shape[1]}\")\n",
    "print(f\"Number of observations: {X.shape[0]}\")\n",
    "print(y.value_counts())"
   ]
  },
  {
   "cell_type": "markdown",
   "metadata": {},
   "source": [
    "## Lightgbm CV"
   ]
  },
  {
   "cell_type": "code",
   "execution_count": 16,
   "metadata": {},
   "outputs": [],
   "source": [
    "lgbm_param = {\n",
    "        'num_leaves': scope.int(hp.quniform('num_leaves', 2, 21, 1)), # hp.choice('num_leaves', np.arange(2, 21)),\n",
    "        'learning_rate': hp.uniform('learning_rate', 0.005, 0.1),\n",
    "        'feature_fraction': hp.uniform('feature_fraction', 0.01, 0.8),\n",
    "        'max_depth': scope.int(hp.quniform('max_depth', 2, 11, 1)), #hp.choice('max_depth', np.arange(2, 11)),\n",
    "        'objective': 'binary',\n",
    "        # 'boosting_type': 'dart',\n",
    "        'metric': 'auc',\n",
    "        'verbose': -1,\n",
    "        # 'device_type': 'gpu'\n",
    "    }\n",
    "\n",
    "def f_lgbm(params):\n",
    "    tr_data = lgbm.Dataset(X, y)\n",
    "    res = lgbm.cv(params, tr_data, num_boost_round=1000, early_stopping_rounds=100, seed=42, return_cvbooster=True)\n",
    "    return {'loss': -np.mean(res['auc-mean']).round(5), 'status': STATUS_OK, 'boosters': res['cvbooster'].boosters}"
   ]
  },
  {
   "cell_type": "code",
   "execution_count": 17,
   "metadata": {},
   "outputs": [
    {
     "name": "stdout",
     "output_type": "stream",
     "text": [
      "100%|██████████| 50/50 [01:07<00:00,  1.36s/trial, best loss: -0.76581]\n"
     ]
    }
   ],
   "source": [
    "trials = Trials()\n",
    "lgbm_best = fmin(f_lgbm, lgbm_param, algo=tpe.suggest, rstate=np.random.RandomState(42), max_evals=50, trials=trials)"
   ]
  },
  {
   "cell_type": "code",
   "execution_count": 18,
   "metadata": {},
   "outputs": [
    {
     "data": {
      "text/plain": [
       "{'feature_fraction': 0.2053922909202318,\n",
       " 'learning_rate': 0.013791375580212269,\n",
       " 'max_depth': 10.0,\n",
       " 'num_leaves': 21.0}"
      ]
     },
     "execution_count": 18,
     "metadata": {},
     "output_type": "execute_result"
    }
   ],
   "source": [
    "lgbm_best"
   ]
  },
  {
   "cell_type": "code",
   "execution_count": 19,
   "metadata": {},
   "outputs": [],
   "source": [
    "# dir(res['cvbooster'])\n",
    "feature_imp = np.zeros((X.shape[1]))\n",
    "for booster in trials.best_trial['result']['boosters']:\n",
    "    feature_imp += booster.feature_importance() / 5\n",
    "    "
   ]
  },
  {
   "cell_type": "code",
   "execution_count": 23,
   "metadata": {},
   "outputs": [
    {
     "data": {
      "text/html": [
       "<div>\n",
       "<style scoped>\n",
       "    .dataframe tbody tr th:only-of-type {\n",
       "        vertical-align: middle;\n",
       "    }\n",
       "\n",
       "    .dataframe tbody tr th {\n",
       "        vertical-align: top;\n",
       "    }\n",
       "\n",
       "    .dataframe thead th {\n",
       "        text-align: right;\n",
       "    }\n",
       "</style>\n",
       "<table border=\"1\" class=\"dataframe\">\n",
       "  <thead>\n",
       "    <tr style=\"text-align: right;\">\n",
       "      <th></th>\n",
       "      <th>cols</th>\n",
       "      <th>feature_importance</th>\n",
       "    </tr>\n",
       "  </thead>\n",
       "  <tbody>\n",
       "    <tr>\n",
       "      <th>0</th>\n",
       "      <td>SysBP_std</td>\n",
       "      <td>273.2</td>\n",
       "    </tr>\n",
       "    <tr>\n",
       "      <th>1</th>\n",
       "      <td>TempC_mean</td>\n",
       "      <td>258.8</td>\n",
       "    </tr>\n",
       "    <tr>\n",
       "      <th>2</th>\n",
       "      <td>WBC_std</td>\n",
       "      <td>258.2</td>\n",
       "    </tr>\n",
       "    <tr>\n",
       "      <th>3</th>\n",
       "      <td>HeartRate_std</td>\n",
       "      <td>251.4</td>\n",
       "    </tr>\n",
       "    <tr>\n",
       "      <th>4</th>\n",
       "      <td>POTASSIUM_mean</td>\n",
       "      <td>224.4</td>\n",
       "    </tr>\n",
       "    <tr>\n",
       "      <th>5</th>\n",
       "      <td>BUN_median</td>\n",
       "      <td>213.2</td>\n",
       "    </tr>\n",
       "    <tr>\n",
       "      <th>6</th>\n",
       "      <td>BILIRUBIN_mean</td>\n",
       "      <td>207.6</td>\n",
       "    </tr>\n",
       "    <tr>\n",
       "      <th>7</th>\n",
       "      <td>MeanBP_mean</td>\n",
       "      <td>203.4</td>\n",
       "    </tr>\n",
       "    <tr>\n",
       "      <th>8</th>\n",
       "      <td>SODIUM_mean</td>\n",
       "      <td>200.6</td>\n",
       "    </tr>\n",
       "    <tr>\n",
       "      <th>9</th>\n",
       "      <td>CREATININE_median</td>\n",
       "      <td>191.4</td>\n",
       "    </tr>\n",
       "  </tbody>\n",
       "</table>\n",
       "</div>"
      ],
      "text/plain": [
       "                cols  feature_importance\n",
       "0          SysBP_std               273.2\n",
       "1         TempC_mean               258.8\n",
       "2            WBC_std               258.2\n",
       "3      HeartRate_std               251.4\n",
       "4     POTASSIUM_mean               224.4\n",
       "5         BUN_median               213.2\n",
       "6     BILIRUBIN_mean               207.6\n",
       "7        MeanBP_mean               203.4\n",
       "8        SODIUM_mean               200.6\n",
       "9  CREATININE_median               191.4"
      ]
     },
     "execution_count": 23,
     "metadata": {},
     "output_type": "execute_result"
    }
   ],
   "source": [
    "pd.DataFrame(dict(cols = case_control_all.drop(columns=['subject_id', 'label']).columns, feature_importance = feature_imp)). \\\n",
    "    sort_values('feature_importance', ascending=False, ignore_index=True).head(10)"
   ]
  }
 ],
 "metadata": {
  "colab": {
   "name": "Sepsis_Project.ipynb",
   "provenance": []
  },
  "interpreter": {
   "hash": "f369dc3251b2e69878e695b69c2217bf34a409687e724799b0e3fed989cd45f1"
  },
  "kernelspec": {
   "display_name": "Python 3.8.6 64-bit (conda)",
   "name": "python3"
  },
  "language_info": {
   "codemirror_mode": {
    "name": "ipython",
    "version": 3
   },
   "file_extension": ".py",
   "mimetype": "text/x-python",
   "name": "python",
   "nbconvert_exporter": "python",
   "pygments_lexer": "ipython3",
   "version": "3.8.6"
  }
 },
 "nbformat": 4,
 "nbformat_minor": 0
}
