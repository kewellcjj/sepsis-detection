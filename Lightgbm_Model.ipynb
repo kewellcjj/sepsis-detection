{
 "cells": [
  {
   "cell_type": "markdown",
   "metadata": {
    "id": "6khSpKn5GVHp"
   },
   "source": [
    "# Big Data for Health (CSE6250) \n",
    "\n",
    "Goal: Using Lightgbm model to predict sepsis onset using MIMIC III Data\n",
    "\n",
    "Author: Zhensheng Wang\n",
    "         \n",
    "Created: 11/13/2021"
   ]
  },
  {
   "cell_type": "code",
   "execution_count": 1,
   "metadata": {
    "id": "Po1v3SZZGJbm"
   },
   "outputs": [],
   "source": [
    "import pandas as pd\n",
    "import matplotlib.pyplot as plt\n",
    "import numpy as np\n",
    "from sklearn.model_selection import StratifiedKFold, train_test_split\n",
    "from sklearn.ensemble import GradientBoostingClassifier\n",
    "from sklearn.preprocessing import LabelEncoder, MinMaxScaler, StandardScaler\n",
    "from sklearn.metrics import roc_auc_score, f1_score\n",
    "from tableone import TableOne\n",
    "import lightgbm as lgbm\n",
    "from hyperopt import fmin, hp, tpe, STATUS_OK, Trials\n",
    "from hyperopt.pyll.base import scope\n",
    "from tableone import TableOne\n",
    "import matplotlib.pyplot as plt\n",
    "import warnings\n",
    "from Python.model_data import model_data\n",
    "warnings.filterwarnings('ignore')\n",
    "\n",
    "import os, gc\n",
    "# os.environ[\"GOOGLE_APPLICATION_CREDENTIALS\"]= os.path.join(os.getcwd(), \"bdfh.json\")\n",
    "# from google.cloud import bigquery\n",
    "# bqclient = bigquery.Client()"
   ]
  },
  {
   "cell_type": "markdown",
   "metadata": {},
   "source": [
    "## Parameter setting"
   ]
  },
  {
   "cell_type": "code",
   "execution_count": 2,
   "metadata": {},
   "outputs": [],
   "source": [
    "DATA_DIR = 'data_ultimate_final'\n",
    "SEED = 42\n",
    "MAX_EVAL = 50\n",
    "TEST_SIZE = 0.1"
   ]
  },
  {
   "cell_type": "markdown",
   "metadata": {},
   "source": [
    "## Load Data"
   ]
  },
  {
   "cell_type": "code",
   "execution_count": 8,
   "metadata": {},
   "outputs": [],
   "source": [
    "\n",
    "case_labs = pd.read_csv(os.path.join(DATA_DIR, 'case_48h_labs_ex3h.csv'))\n",
    "case_vitals = pd.read_csv(os.path.join(DATA_DIR, 'case_48h_vitals_ex3h.csv'))\n",
    "case_static = pd.read_csv(os.path.join(DATA_DIR, 'static_variables_cases_ex3h.csv'))\n",
    "\n",
    "control_labs = pd.read_csv(os.path.join(DATA_DIR, 'control_48h_labs_ex3h.csv'))\n",
    "control_vitals = pd.read_csv(os.path.join(DATA_DIR, 'control_48h_vitals_ex3h.csv'))\n",
    "control_static = pd.read_csv(os.path.join(DATA_DIR, 'static_variables_controls_ex3h.csv'))\n",
    "\n",
    "# df_train, df_test = model_data(model_type=\"LGBM\", test_size=.2)\n"
   ]
  },
  {
   "cell_type": "markdown",
   "metadata": {},
   "source": [
    "## Helper function\n"
   ]
  },
  {
   "cell_type": "code",
   "execution_count": 4,
   "metadata": {},
   "outputs": [],
   "source": [
    "def race_recode(df):\n",
    "    cond_white = df['ethnicity'].str.contains('WHITE')\n",
    "    cond_black = df['ethnicity'].str.contains('BLACK')\n",
    "    cond_asian = df['ethnicity'].str.contains('ASIAN')\n",
    "    cond_hispa = df['ethnicity'].str.contains('HISPANIC')\n",
    "\n",
    "    df.loc[cond_white, 'ethnicity'] = 'WHITE'\n",
    "    df.loc[cond_black, 'ethnicity'] = 'BLACK'\n",
    "    df.loc[cond_asian, 'ethnicity'] = 'ASIAN'\n",
    "    df.loc[cond_hispa, 'ethnicity'] = 'HISPANIC'\n",
    "    df.loc[~(cond_white | cond_black | cond_asian | cond_hispa), 'ethnicity'] = 'OTHER'\n",
    "    \n",
    "    df['ethnicity'] = df['ethnicity'].apply(lambda x: x[0] + x[1:].lower())\n",
    "    return df"
   ]
  },
  {
   "cell_type": "markdown",
   "metadata": {},
   "source": [
    "## Table1"
   ]
  },
  {
   "cell_type": "code",
   "execution_count": 6,
   "metadata": {},
   "outputs": [],
   "source": [
    "\n",
    "t1_case = case_static.sort_values(['subject_id', 'admission_age']).drop_duplicates('subject_id')[['gender', 'ethnicity', 'admission_age', 'subject_id']]\n",
    "t1_case = t1_case[t1_case.subject_id.isin(case_vitals.subject_id) & t1_case.subject_id.isin(case_labs.subject_id)]\n",
    "t1_case.loc[:, 'gender'] = t1_case['gender'].apply(lambda x: 'Female' if x == 'F' else 'Male')\n",
    "t1_case = race_recode(t1_case)\n",
    "t1_case['Sepsis'] = 'Yes'\n",
    "\n",
    "t1_control = control_static.sort_values(['subject_id', 'admission_age']).drop_duplicates('subject_id')[['gender', 'ethnicity', 'admission_age', 'subject_id']]\n",
    "t1_control = t1_control[t1_control.subject_id.isin(control_vitals.subject_id) & t1_control.subject_id.isin(control_labs.subject_id)]\n",
    "\n",
    "t1_control.loc[:, 'gender'] = t1_control['gender'].apply(lambda x: 'Female' if x == 'F' else 'Male')\n",
    "t1_control = race_recode(t1_control)\n",
    "t1_control['Sepsis'] = 'No'\n",
    "\n",
    "t1 = pd.concat((t1_case, t1_control), ignore_index=True).drop_duplicates('subject_id')\n",
    "\n",
    "order = {\n",
    "    'ETHNICITY': ['White', 'Black', 'Hispanic', 'Asian', 'Other']\n",
    "}\n",
    "\n",
    "label = {\n",
    "    'admission_age': 'Age (yrs) at first admission',\n",
    "    # 'los': 'Length of stay (days)',\n",
    "    'ethnicity': 'Race/Ethnicity',\n",
    "    # 'MARITAL_STATUS': 'Marital status',\n",
    "    'gender': 'Gender',\n",
    "    # 'INSURANCE': 'Insurance'\n",
    "}\n",
    "\n",
    "t1_pivot = TableOne(\n",
    "    t1, \n",
    "    columns=['gender', 'ethnicity', 'admission_age'], \n",
    "    categorical=['gender', 'ethnicity'],\n",
    "    nonnormal = ['admission_age'],  \n",
    "    groupby = 'Sepsis', \n",
    "    limit = 6, \n",
    "    order = order,\n",
    "    pval = True,\n",
    "    missing = False,\n",
    "    rename = label)"
   ]
  },
  {
   "cell_type": "code",
   "execution_count": 7,
   "metadata": {},
   "outputs": [
    {
     "data": {
      "text/html": [
       "<div>\n",
       "<style scoped>\n",
       "    .dataframe tbody tr th:only-of-type {\n",
       "        vertical-align: middle;\n",
       "    }\n",
       "\n",
       "    .dataframe tbody tr th {\n",
       "        vertical-align: top;\n",
       "    }\n",
       "\n",
       "    .dataframe thead tr th {\n",
       "        text-align: left;\n",
       "    }\n",
       "</style>\n",
       "<table border=\"1\" class=\"dataframe\">\n",
       "  <thead>\n",
       "    <tr>\n",
       "      <th></th>\n",
       "      <th></th>\n",
       "      <th colspan=\"4\" halign=\"left\">Grouped by Sepsis</th>\n",
       "    </tr>\n",
       "    <tr>\n",
       "      <th></th>\n",
       "      <th></th>\n",
       "      <th>Overall</th>\n",
       "      <th>No</th>\n",
       "      <th>Yes</th>\n",
       "      <th>P-Value</th>\n",
       "    </tr>\n",
       "  </thead>\n",
       "  <tbody>\n",
       "    <tr>\n",
       "      <th>n</th>\n",
       "      <th></th>\n",
       "      <td>4953</td>\n",
       "      <td>4357</td>\n",
       "      <td>596</td>\n",
       "      <td></td>\n",
       "    </tr>\n",
       "    <tr>\n",
       "      <th rowspan=\"2\" valign=\"top\">Gender, n (%)</th>\n",
       "      <th>Female</th>\n",
       "      <td>2187 (44.2)</td>\n",
       "      <td>1902 (43.7)</td>\n",
       "      <td>285 (47.8)</td>\n",
       "      <td>0.061</td>\n",
       "    </tr>\n",
       "    <tr>\n",
       "      <th>Male</th>\n",
       "      <td>2766 (55.8)</td>\n",
       "      <td>2455 (56.3)</td>\n",
       "      <td>311 (52.2)</td>\n",
       "      <td></td>\n",
       "    </tr>\n",
       "    <tr>\n",
       "      <th rowspan=\"5\" valign=\"top\">Race/Ethnicity, n (%)</th>\n",
       "      <th>Asian</th>\n",
       "      <td>131 (2.6)</td>\n",
       "      <td>111 (2.5)</td>\n",
       "      <td>20 (3.4)</td>\n",
       "      <td>0.163</td>\n",
       "    </tr>\n",
       "    <tr>\n",
       "      <th>Black</th>\n",
       "      <td>470 (9.5)</td>\n",
       "      <td>403 (9.2)</td>\n",
       "      <td>67 (11.2)</td>\n",
       "      <td></td>\n",
       "    </tr>\n",
       "    <tr>\n",
       "      <th>Hispanic</th>\n",
       "      <td>181 (3.7)</td>\n",
       "      <td>153 (3.5)</td>\n",
       "      <td>28 (4.7)</td>\n",
       "      <td></td>\n",
       "    </tr>\n",
       "    <tr>\n",
       "      <th>Other</th>\n",
       "      <td>506 (10.2)</td>\n",
       "      <td>449 (10.3)</td>\n",
       "      <td>57 (9.6)</td>\n",
       "      <td></td>\n",
       "    </tr>\n",
       "    <tr>\n",
       "      <th>White</th>\n",
       "      <td>3665 (74.0)</td>\n",
       "      <td>3241 (74.4)</td>\n",
       "      <td>424 (71.1)</td>\n",
       "      <td></td>\n",
       "    </tr>\n",
       "    <tr>\n",
       "      <th>Age (yrs) at first admission, median [Q1,Q3]</th>\n",
       "      <th></th>\n",
       "      <td>66.1 [53.7,77.6]</td>\n",
       "      <td>66.2 [53.8,77.6]</td>\n",
       "      <td>65.3 [52.6,77.6]</td>\n",
       "      <td>0.460</td>\n",
       "    </tr>\n",
       "  </tbody>\n",
       "</table>\n",
       "</div><br />"
      ],
      "text/plain": [
       "                                                      Grouped by Sepsis                                            \n",
       "                                                                Overall                No               Yes P-Value\n",
       "n                                                                  4953              4357               596        \n",
       "Gender, n (%)                                Female         2187 (44.2)       1902 (43.7)        285 (47.8)   0.061\n",
       "                                             Male           2766 (55.8)       2455 (56.3)        311 (52.2)        \n",
       "Race/Ethnicity, n (%)                        Asian            131 (2.6)         111 (2.5)          20 (3.4)   0.163\n",
       "                                             Black            470 (9.5)         403 (9.2)         67 (11.2)        \n",
       "                                             Hispanic         181 (3.7)         153 (3.5)          28 (4.7)        \n",
       "                                             Other           506 (10.2)        449 (10.3)          57 (9.6)        \n",
       "                                             White          3665 (74.0)       3241 (74.4)        424 (71.1)        \n",
       "Age (yrs) at first admission, median [Q1,Q3]           66.1 [53.7,77.6]  66.2 [53.8,77.6]  65.3 [52.6,77.6]   0.460"
      ]
     },
     "execution_count": 7,
     "metadata": {},
     "output_type": "execute_result"
    }
   ],
   "source": [
    "t1_pivot.to_csv('t1_pivot.csv')\n",
    "t1_pivot"
   ]
  },
  {
   "cell_type": "markdown",
   "metadata": {},
   "source": [
    "## Clean data"
   ]
  },
  {
   "cell_type": "code",
   "execution_count": 22,
   "metadata": {},
   "outputs": [],
   "source": [
    "# case_labs = case_labs.drop(columns=['chart_time', 'icustay_id', 'sepsis_onset', 'hr_feature'])\n",
    "# apply_dict = {col: ['mean', 'median', 'std'] for col in case_labs.columns if col != 'subject_id'}\n",
    "# case_labs = case_labs.groupby('subject_id').agg(apply_dict)\n",
    "# # case_labs = case_labs.fillna(case_labs.median())\n",
    "# case_labs.columns = ['_'.join(col) for col in case_labs.columns]\n",
    "\n",
    "# case_static = case_static[['gender', 'ethnicity', 'admission_age', 'subject_id']]\n",
    "# case_static['label'] = 1\n",
    "# case_static = race_recode(case_static)\n",
    "# case_static['ethnicity'] = LabelEncoder().fit_transform(case_static['ethnicity'])\n",
    "# case_static['gender'] = LabelEncoder().fit_transform(case_static['gender'])\n",
    "\n",
    "# case_vitals = case_vitals.drop(columns=['chart_time', 'icustay_id', 'sepsis_onset', 'hr_feature'])\n",
    "# apply_dict = {col: ['mean', 'median', 'std'] for col in case_vitals.columns if col != 'subject_id'}\n",
    "# case_vitals = case_vitals.groupby('subject_id').agg(apply_dict)\n",
    "# # case_vitals = case_vitals.fillna(case_vitals.median())\n",
    "# case_vitals.columns = ['_'.join(col) for col in case_vitals.columns]\n",
    "\n",
    "# case_all = case_static.merge(case_labs, on='subject_id').merge(case_vitals, on='subject_id')\n",
    "\n",
    "\n",
    "# control_labs = control_labs.drop(columns=['chart_time', 'icustay_id', 'control_onset_time', 'hr_feature'])\n",
    "# apply_dict = {col: ['mean', 'median', 'std'] for col in control_labs.columns if col != 'subject_id'}\n",
    "# control_labs = control_labs.groupby('subject_id').agg(apply_dict)\n",
    "# # control_labs = control_labs.fillna(control_labs.median())\n",
    "# control_labs.columns = ['_'.join(col) for col in control_labs.columns]\n",
    "\n",
    "# control_static = control_static[['gender', 'ethnicity', 'admission_age', 'subject_id']]\n",
    "# control_static['label'] = 0\n",
    "# control_static = race_recode(control_static)\n",
    "# control_static['ethnicity'] = LabelEncoder().fit_transform(control_static['ethnicity'])\n",
    "# control_static['gender'] = LabelEncoder().fit_transform(control_static['gender'])\n",
    "\n",
    "# control_vitals = control_vitals.drop(columns=['chart_time', 'icustay_id', 'control_onset_time', 'hr_feature'])\n",
    "# apply_dict = {col: ['mean', 'median', 'std'] for col in control_vitals.columns if col != 'subject_id'}\n",
    "# control_vitals = control_vitals.groupby('subject_id').agg(apply_dict)\n",
    "# # control_vitals = control_vitals.fillna(control_vitals.median())\n",
    "# control_vitals.columns = ['_'.join(col) for col in control_vitals.columns]\n",
    "\n",
    "# control_all = control_static.merge(control_labs, on='subject_id').merge(control_vitals, on='subject_id')\n",
    "\n",
    "\n",
    "# case_control_all = pd.concat((case_all, control_all), ignore_index=True).sample(frac=1).reset_index(drop=True)\n",
    "\n",
    "# cols_delete = [x for x in case_control_all.columns if x in ['subject_id', 'label', 'icustay_id'] or x.startswith('Unnamed')]\n",
    "# X, y = case_control_all.drop(columns=cols_delete), case_control_all.label"
   ]
  },
  {
   "cell_type": "markdown",
   "metadata": {},
   "source": [
    "## Train-test split"
   ]
  },
  {
   "cell_type": "code",
   "execution_count": null,
   "metadata": {},
   "outputs": [],
   "source": [
    "# X_train, X_test, y_train, y_test = train_test_split(X, y, random_state=42, stratify=y, test_size=TEST_SIZE)\n",
    "\n",
    "# X_train = MinMaxScaler().fit_transform(X_train)\n",
    "# X_test = MinMaxScaler().fit_transform(X_test)\n",
    "\n",
    "# print(f\"Number of features included: {X.shape[1]}\")\n",
    "# print(f\"Number of observations: {X.shape[0]}\")\n",
    "# print(y.value_counts())"
   ]
  },
  {
   "cell_type": "code",
   "execution_count": 3,
   "metadata": {},
   "outputs": [
    {
     "name": "stdout",
     "output_type": "stream",
     "text": [
      "Train/Test data size: 4885/543\n"
     ]
    }
   ],
   "source": [
    "df_train, df_test = model_data('LGBM', path = DATA_DIR, test_size=0.1)\n",
    "X_train, y_train = df_train.drop(columns=['label', 'icustay_id']), df_train['label']\n",
    "X_test, y_test = df_test.drop(columns=['label', 'icustay_id']), df_test['label']\n",
    "\n",
    "sc = MinMaxScaler()\n",
    "X_train = sc.fit_transform(X_train)\n",
    "X_test = sc.transform(X_test)"
   ]
  },
  {
   "cell_type": "code",
   "execution_count": 4,
   "metadata": {},
   "outputs": [
    {
     "name": "stdout",
     "output_type": "stream",
     "text": [
      "Number of features included: 229\n",
      "Number of observations: 5428\n",
      "0    4798\n",
      "1     630\n",
      "Name: label, dtype: int64\n"
     ]
    }
   ],
   "source": [
    "print(f\"Number of features included: {df_train.shape[1]}\")\n",
    "print(f\"Number of observations: {df_train.shape[0] + df_test.shape[0]}\")\n",
    "print(pd.concat((df_train, df_test))['label'].value_counts())"
   ]
  },
  {
   "cell_type": "markdown",
   "metadata": {},
   "source": [
    "## Lightgbm CV"
   ]
  },
  {
   "cell_type": "code",
   "execution_count": 12,
   "metadata": {},
   "outputs": [],
   "source": [
    "# def lgb_f1_score(y_hat, data):\n",
    "#     y_true = data.get_label()\n",
    "#     y_hat = np.round(y_hat) # scikits f1 doesn't like probabilities\n",
    "#     return 'f1', f1_score(y_true, y_hat), True"
   ]
  },
  {
   "cell_type": "code",
   "execution_count": 5,
   "metadata": {},
   "outputs": [],
   "source": [
    "lgbm_param = {\n",
    "        'num_leaves': scope.int(hp.quniform('num_leaves', 2, 21, 1)), # hp.choice('num_leaves', np.arange(2, 21)),\n",
    "        'learning_rate': hp.uniform('learning_rate', 0.005, 0.2),\n",
    "        'feature_fraction': hp.uniform('feature_fraction', 0.1, 1.0),\n",
    "        'max_depth': scope.int(hp.quniform('max_depth', 2, 11, 1)), #hp.choice('max_depth', np.arange(2, 11)),\n",
    "        'objective': 'binary',\n",
    "        # 'boosting_type': 'dart',\n",
    "        'metric': 'auc',\n",
    "        'verbose': -1,\n",
    "        # 'device_type': 'gpu'\n",
    "    }\n",
    "\n",
    "def f_lgbm(params):\n",
    "    tr_data = lgbm.Dataset(X_train, y_train)\n",
    "    res = lgbm.cv(params, tr_data, num_boost_round=1000, early_stopping_rounds=100, seed=SEED, return_cvbooster=True)\n",
    "    return {\n",
    "        'loss': -np.mean(res['auc-mean']).round(5), \n",
    "        'status': STATUS_OK,\n",
    "        'boosters': res['cvbooster'].boosters, \n",
    "        'auc-mean': res['auc-mean'],\n",
    "        'auc-std': res['auc-stdv']\n",
    "    }"
   ]
  },
  {
   "cell_type": "code",
   "execution_count": 6,
   "metadata": {},
   "outputs": [
    {
     "name": "stdout",
     "output_type": "stream",
     "text": [
      "100%|██████████| 50/50 [00:47<00:00,  1.06trial/s, best loss: -0.76078]\n"
     ]
    }
   ],
   "source": [
    "trials = Trials()\n",
    "lgbm_best = fmin(f_lgbm, lgbm_param, algo=tpe.suggest, max_evals=MAX_EVAL, trials=trials, rstate=np.random.seed(SEED))"
   ]
  },
  {
   "cell_type": "code",
   "execution_count": 7,
   "metadata": {},
   "outputs": [
    {
     "data": {
      "text/plain": [
       "{'feature_fraction': 0.2153856289969032,\n",
       " 'learning_rate': 0.005759670546535606,\n",
       " 'max_depth': 8.0,\n",
       " 'num_leaves': 18.0}"
      ]
     },
     "execution_count": 7,
     "metadata": {},
     "output_type": "execute_result"
    }
   ],
   "source": [
    "lgbm_best"
   ]
  },
  {
   "cell_type": "markdown",
   "metadata": {},
   "source": [
    "## Test data prediction\n",
    "\n",
    "<!-- 20% test data\n",
    "- validation set = 0.763\n",
    "- test set = 0.734\n",
    "\n",
    "10% test data\n",
    "- validation set = 0.774\n",
    "- test set = 0.759 -->"
   ]
  },
  {
   "cell_type": "code",
   "execution_count": 8,
   "metadata": {},
   "outputs": [
    {
     "name": "stdout",
     "output_type": "stream",
     "text": [
      "Test AUC: 0.79610\n"
     ]
    }
   ],
   "source": [
    "preds = np.zeros_like(y_test, dtype=np.float32)\n",
    "for booster in trials.best_trial['result']['boosters']:\n",
    "    preds += booster.predict(X_test) / 5\n",
    "print(f\"Test AUC: {roc_auc_score(y_test, preds):.5f}\")"
   ]
  },
  {
   "cell_type": "markdown",
   "metadata": {},
   "source": [
    "## AUC Curve"
   ]
  },
  {
   "cell_type": "code",
   "execution_count": 9,
   "metadata": {},
   "outputs": [
    {
     "data": {
      "image/png": "[encoded data removed]",
      "text/plain": [
       "<Figure size 432x288 with 1 Axes>"
      ]
     },
     "metadata": {
      "needs_background": "light"
     },
     "output_type": "display_data"
    }
   ],
   "source": [
    "train_auc_df = pd.DataFrame(dict(auc =trials.best_trial['result']['auc-mean'], std=trials.best_trial['result']['auc-std']))\n",
    "train_auc_df['auc_l'] = train_auc_df['auc'] - 1.96 * train_auc_df['std']\n",
    "train_auc_df['auc_h'] = train_auc_df['auc'] + 1.96 * train_auc_df['std']\n",
    "\n",
    "plt.plot(train_auc_df['auc'], 'k-', label='Mean auc')\n",
    "plt.plot(train_auc_df['auc_l'], '--', color='gray', label='95% CI bound')\n",
    "plt.plot(train_auc_df['auc_h'], '--', color='gray')\n",
    "plt.xlabel('Boosting Round')\n",
    "plt.ylabel('AUC')\n",
    "plt.legend()\n",
    "# plt.title('AUC Curve on 5-fold cross validation lightgbm model')\n",
    "plt.savefig('lightgbm-auc.jpg')"
   ]
  },
  {
   "cell_type": "markdown",
   "metadata": {},
   "source": [
    "## Feature importance"
   ]
  },
  {
   "cell_type": "code",
   "execution_count": 16,
   "metadata": {},
   "outputs": [],
   "source": [
    "# dir(res['cvbooster'])\n",
    "feature_imp = np.zeros((X_train.shape[1]))\n",
    "for booster in trials.best_trial['result']['boosters']:\n",
    "    feature_imp += booster.feature_importance() / 5\n",
    "    "
   ]
  },
  {
   "cell_type": "code",
   "execution_count": 17,
   "metadata": {},
   "outputs": [
    {
     "data": {
      "text/html": [
       "<div>\n",
       "<style scoped>\n",
       "    .dataframe tbody tr th:only-of-type {\n",
       "        vertical-align: middle;\n",
       "    }\n",
       "\n",
       "    .dataframe tbody tr th {\n",
       "        vertical-align: top;\n",
       "    }\n",
       "\n",
       "    .dataframe thead th {\n",
       "        text-align: right;\n",
       "    }\n",
       "</style>\n",
       "<table border=\"1\" class=\"dataframe\">\n",
       "  <thead>\n",
       "    <tr style=\"text-align: right;\">\n",
       "      <th></th>\n",
       "      <th>features</th>\n",
       "      <th>feature_importance</th>\n",
       "    </tr>\n",
       "  </thead>\n",
       "  <tbody>\n",
       "    <tr>\n",
       "      <th>0</th>\n",
       "      <td>TempC_std</td>\n",
       "      <td>225.0</td>\n",
       "    </tr>\n",
       "    <tr>\n",
       "      <th>1</th>\n",
       "      <td>PLATELET_mean</td>\n",
       "      <td>203.8</td>\n",
       "    </tr>\n",
       "    <tr>\n",
       "      <th>2</th>\n",
       "      <td>CREATININE_mean</td>\n",
       "      <td>185.8</td>\n",
       "    </tr>\n",
       "    <tr>\n",
       "      <th>3</th>\n",
       "      <td>SysBP_std</td>\n",
       "      <td>183.2</td>\n",
       "    </tr>\n",
       "    <tr>\n",
       "      <th>4</th>\n",
       "      <td>BILIRUBIN_mean</td>\n",
       "      <td>176.0</td>\n",
       "    </tr>\n",
       "    <tr>\n",
       "      <th>5</th>\n",
       "      <td>RespRate_std</td>\n",
       "      <td>170.2</td>\n",
       "    </tr>\n",
       "    <tr>\n",
       "      <th>6</th>\n",
       "      <td>PLATELET_median</td>\n",
       "      <td>168.0</td>\n",
       "    </tr>\n",
       "    <tr>\n",
       "      <th>7</th>\n",
       "      <td>MeanBP_mean</td>\n",
       "      <td>166.0</td>\n",
       "    </tr>\n",
       "    <tr>\n",
       "      <th>8</th>\n",
       "      <td>SpO2_pulsoxy_std</td>\n",
       "      <td>161.8</td>\n",
       "    </tr>\n",
       "    <tr>\n",
       "      <th>9</th>\n",
       "      <td>HeartRate_std</td>\n",
       "      <td>155.0</td>\n",
       "    </tr>\n",
       "  </tbody>\n",
       "</table>\n",
       "</div>"
      ],
      "text/plain": [
       "           features  feature_importance\n",
       "0         TempC_std               225.0\n",
       "1     PLATELET_mean               203.8\n",
       "2   CREATININE_mean               185.8\n",
       "3         SysBP_std               183.2\n",
       "4    BILIRUBIN_mean               176.0\n",
       "5      RespRate_std               170.2\n",
       "6   PLATELET_median               168.0\n",
       "7       MeanBP_mean               166.0\n",
       "8  SpO2_pulsoxy_std               161.8\n",
       "9     HeartRate_std               155.0"
      ]
     },
     "execution_count": 17,
     "metadata": {},
     "output_type": "execute_result"
    }
   ],
   "source": [
    "feature_imp = pd.DataFrame(dict(features = df_train.drop(columns=['label', 'icustay_id']).columns, feature_importance = feature_imp)). \\\n",
    "    sort_values('feature_importance', ascending=False, ignore_index=True).head(10)\n",
    "feature_imp.to_latex('feature_imp.tex', index=False)\n",
    "feature_imp"
   ]
  }
 ],
 "metadata": {
  "colab": {
   "name": "Sepsis_Project.ipynb",
   "provenance": []
  },
  "interpreter": {
   "hash": "26d09d966689d997d4eaab7bca7acf4e7eaa0a1cb97240df721a5c838a5358e7"
  },
  "kernelspec": {
   "display_name": "Python 3.8.6 64-bit ('myenv': conda)",
   "name": "python3"
  },
  "language_info": {
   "codemirror_mode": {
    "name": "ipython",
    "version": 3
   },
   "file_extension": ".py",
   "mimetype": "text/x-python",
   "name": "python",
   "nbconvert_exporter": "python",
   "pygments_lexer": "ipython3",
   "version": "3.8.6"
  }
 },
 "nbformat": 4,
 "nbformat_minor": 0
}
